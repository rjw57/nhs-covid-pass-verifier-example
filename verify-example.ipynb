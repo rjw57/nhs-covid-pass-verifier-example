{
 "cells": [
  {
   "cell_type": "markdown",
   "id": "43228de5-ca98-494c-b872-974875782b87",
   "metadata": {},
   "source": [
    "# Decoding and Verifying the Domestic NHS COVID Pass\n",
    "_Rich Wareham (rich.nhs-pass@richwareham.com)_\n",
    "\n",
    "In England, the NHS are allowing people to prove their vaccination status, natural immunity or a recent negative COVID test by means of a [NHS COVID Pass](https://www.nhs.uk/conditions/coronavirus-covid-19/covid-pass/). The pass is intended to be verified via a [companion app](https://play.google.com/store/apps/details?id=uk.gov.dhsc.healthrecord).\n",
    "\n",
    "There are two forms of COVID pass available: an _international_ pass compatible with the [EU Digital Green Certificate](https://ec.europa.eu/info/live-work-travel-eu/coronavirus-response/safe-covid-19-vaccines-europeans/eu-digital-covid-certificate_en) and a _domestic_ pass intended to be shown on entry to events, nightclubs, etc which opt to make use of it.\n",
    "\n",
    "The international pass contains an individual's full vaccination record whereas the domestic pass contains only a name and an expiry date. If an individual can present a valid NHS COVID pass they are deemed to be sufficiently protected or tested.\n",
    "\n",
    "This notebook provides an example of how to parse and validate the domestic pass along with some implementation notes."
   ]
  },
  {
   "cell_type": "markdown",
   "id": "789dc232-cbb5-4c3e-bafa-9aa30d2fb160",
   "metadata": {},
   "source": [
    "## The existing app\n",
    "\n",
    "[Source code](https://github.com/nhsx/covid-pass-verifier) for the existing app is available on GitHub and is [licensed](https://github.com/nhsx/covid-pass-verifier/blob/ef3b3faa34cb7b37fcb59903e1e09cd8eb1e9d0d/LICENSE) under an MIT-style license with Copyright asserted by Craig Shenton. Some of the work below is the result of reading the app's source code."
   ]
  },
  {
   "cell_type": "markdown",
   "id": "be973f00-27b8-4ec1-bd47-5d51a3ba3c4d",
   "metadata": {},
   "source": [
    "## Dependencies\n",
    "\n",
    "We first need to install some dependencies:"
   ]
  },
  {
   "cell_type": "code",
   "execution_count": 1,
   "id": "1e07a738-c629-4d13-988e-26596dc1f555",
   "metadata": {},
   "outputs": [
    {
     "name": "stdout",
     "output_type": "stream",
     "text": [
      "Requirement already satisfied: qrcode[pil] in ./venv/lib/python3.8/site-packages (7.1)\n",
      "Requirement already satisfied: ecdsa in ./venv/lib/python3.8/site-packages (0.17.0)\n",
      "Requirement already satisfied: six>=1.9.0 in ./venv/lib/python3.8/site-packages (from ecdsa) (1.16.0)\n",
      "Requirement already satisfied: pillow in ./venv/lib/python3.8/site-packages (from qrcode[pil]) (8.3.1)\n"
     ]
    }
   ],
   "source": [
    "!pip install qrcode[pil] ecdsa"
   ]
  },
  {
   "cell_type": "markdown",
   "id": "d472e171-2fbf-4490-b90a-7fa446159535",
   "metadata": {},
   "source": [
    "## QR payload\n",
    "\n",
    "The pass itself takes the form of a QR code which encodes an ASCII payload. An example of an expired pass is given below:"
   ]
  },
  {
   "cell_type": "code",
   "execution_count": 2,
   "id": "1e2af259-33be-4f74-86e3-83a6eea003d9",
   "metadata": {},
   "outputs": [
    {
     "data": {
      "image/png": "[encoded data removed]",
      "text/plain": [
       "<qrcode.image.pil.PilImage at 0x7facc446b7f0>"
      ]
     },
     "execution_count": 2,
     "metadata": {},
     "output_type": "execute_result"
    }
   ],
   "source": [
    "import qrcode\n",
    "\n",
    "qr_payload = 'S2V5MVJF.MTIxMDcxOTA5NTZSSUNIQVJEIFdBUkVIQU0.IBAR-qC1Xhu1WIJPDb-wUipLC7-_HZSfIHC7rYhEJBDohiImNYVbHMt8vpLnkuVmKMoU1OrlCSYD1bpqxGRamA'\n",
    "qrcode.make(qr_payload, box_size=4)"
   ]
  },
  {
   "cell_type": "markdown",
   "id": "f42553f2-b313-4900-8952-927b3f558efe",
   "metadata": {},
   "source": [
    "The QR code's payload is modelled after the structure of a [JSON Web Token](https://jwt.io/) and contains a _header_ and _payload_ and a _signature_ separated by full-stop (`.`) characters."
   ]
  },
  {
   "cell_type": "code",
   "execution_count": 3,
   "id": "fd2f89d7-4424-4031-9f9f-3a3f81f25764",
   "metadata": {},
   "outputs": [],
   "source": [
    "header, payload, signature = qr_payload.split('.')"
   ]
  },
  {
   "cell_type": "markdown",
   "id": "8f09f784-21e7-4280-8d14-48b7e5db47a9",
   "metadata": {},
   "source": [
    "## Verification key\n",
    "\n",
    "In order to verify the signature, we need to obtain a public key. The [public keys](https://covid-status.service.nhsx.nhs.uk/pubkeys/keys.json) are available from a public HTTPS endpoint:"
   ]
  },
  {
   "cell_type": "code",
   "execution_count": 4,
   "id": "16f29e9e-641d-4ada-a074-aae23875275a",
   "metadata": {},
   "outputs": [],
   "source": [
    "import urllib.request\n",
    "import json\n",
    "\n",
    "with urllib.request.urlopen('https://covid-status.service.nhsx.nhs.uk/pubkeys/keys.json') as f:\n",
    "    keys = json.load(f) "
   ]
  },
  {
   "cell_type": "markdown",
   "id": "35c8516f-8945-41ed-acd2-2af47497dbe3",
   "metadata": {},
   "source": [
    "The keys are a JSON array of objects matching key ids to Base64 encoded public keys:"
   ]
  },
  {
   "cell_type": "code",
   "execution_count": 5,
   "id": "6d9a18a3-bda1-4e78-8569-3688898691a6",
   "metadata": {},
   "outputs": [
    {
     "data": {
      "text/plain": [
       "[{'kid': 'S2V5MVJF',\n",
       "  'publicKey': 'MFkwEwYHKoZIzj0CAQYIKoZIzj0DAQcDQgAEtWokvmqrJOv/0PO9Vy8lpb6SgWw+rao0qIXntO/Bf7ExryL3yyKRI73IqAh38Lk4joqHrZK8XLZV9PMclgmTVg=='},\n",
       " {'kid': 'S2V5MlJF',\n",
       "  'publicKey': 'MFkwEwYHKoZIzj0CAQYIKoZIzj0DAQcDQgAEAauvVllnjXm0toiI2cUQfCTdZiDQ6kvtoo1bSnl8W3Rq7WyOeHWYKhBaQ4rEBceqNl5+v1ZLGj0WfnIhXh246Q=='},\n",
       " {'kid': 'S2V5M1JF',\n",
       "  'publicKey': 'MFkwEwYHKoZIzj0CAQYIKoZIzj0DAQcDQgAE2ZpDNa1VV6g2PkmyKoL1INO0MtTqE5WT45i3QhY9FFMjbF9ieqnHV4R814wrN3f3vzkx0VN/YJZH4rI1GDlfqw=='},\n",
       " {'kid': 'S2V5NFJF',\n",
       "  'publicKey': 'MFkwEwYHKoZIzj0CAQYIKoZIzj0DAQcDQgAE8g5iFLRT7NyRmKp7pcP8uEgoHFhfmcXOLLD4RUtX50/Rh4Cz7l/faAiODNMmCkcWLA1Z8WOZoNFQsdmeDjXuLQ=='},\n",
       " {'kid': 'S2V5NVJF',\n",
       "  'publicKey': 'MFkwEwYHKoZIzj0CAQYIKoZIzj0DAQcDQgAEOFOUp1+SLuaM3NnV+OMZKZOoPg76T7D+vqRCasD0BrRZmlUH2gD+aVlpKvp+u7h8ywTR7T6Z6/iI2Qe6F5begg=='},\n",
       " {'kid': 'S2V5MVBSTw==',\n",
       "  'publicKey': 'MFkwEwYHKoZIzj0CAQYIKoZIzj0DAQcDQgAEyfUqlGg4hfyPYgZJzl1KepkfTaX+F3592syCJ0ylVOHA4fE6vavLXE4cG+Whz/eqyW/rFuZ0HBHHEskmpCngOA=='},\n",
       " {'kid': 'S2V5MlBSTw==',\n",
       "  'publicKey': 'MFkwEwYHKoZIzj0CAQYIKoZIzj0DAQcDQgAEP6P6ZlbhcW1xZpp91qagUY+iLIyuu+CynzAlrqiiseqmOYH8uJ71CkbEYhbVh8TemnbaR0unE2j9EPK7Y/x7Vg=='},\n",
       " {'kid': 'S2V5M1BSTw==',\n",
       "  'publicKey': 'MFkwEwYHKoZIzj0CAQYIKoZIzj0DAQcDQgAErltiOh3nmU+x4p5r249O/2fBSnHkjJpas23lhMAtEYeQutHiw0G+zeEUNZ/n++/XbFoY5hH68d27cGaGW6uoxw=='},\n",
       " {'kid': 'S2V5NFBSTw==',\n",
       "  'publicKey': 'MFkwEwYHKoZIzj0CAQYIKoZIzj0DAQcDQgAEEfIefhjjacwZ+xxKudJGqdHr0j95tWtYIUGPeWV2XWmduygfe3oIFJu/A2kYGmeZ4u/ERSTNM2ZXuE9k19xVJQ=='},\n",
       " {'kid': 'S2V5NVBSTw==',\n",
       "  'publicKey': 'MFkwEwYHKoZIzj0CAQYIKoZIzj0DAQcDQgAE+4ukUdmm9f4AmyQBwTLQFKPPCQj4fP2BpQkIl2hb4p6FxPGDP9z3JkIo2w2xkoxqs2JrTHn2MCdyh3aeyZWD4A=='}]"
      ]
     },
     "execution_count": 5,
     "metadata": {},
     "output_type": "execute_result"
    }
   ],
   "source": [
    "keys"
   ]
  },
  {
   "cell_type": "markdown",
   "id": "d1f0c52a-0839-4c72-94c3-d82b526b9d2a",
   "metadata": {},
   "source": [
    "To find the appropriate public key we need only match the `kid` field to the header of the QR code payload. The keys themselves are elliptic curve public keys."
   ]
  },
  {
   "cell_type": "code",
   "execution_count": 6,
   "id": "9adc7a71-c245-45f0-8c8c-3d6b940c9c3e",
   "metadata": {},
   "outputs": [
    {
     "name": "stdout",
     "output_type": "stream",
     "text": [
      "Found public key:\n",
      "-----BEGIN PUBLIC KEY-----\n",
      "MFkwEwYHKoZIzj0CAQYIKoZIzj0DAQcDQgAEtWokvmqrJOv/0PO9Vy8lpb6SgWw+\n",
      "rao0qIXntO/Bf7ExryL3yyKRI73IqAh38Lk4joqHrZK8XLZV9PMclgmTVg==\n",
      "-----END PUBLIC KEY-----\n"
     ]
    }
   ],
   "source": [
    "import ecdsa\n",
    "import base64\n",
    "\n",
    "pub_key_enc = [k['publicKey'] for k in keys if k['kid'] == header][0]\n",
    "pub_key = ecdsa.VerifyingKey.from_der(base64.b64decode(pub_key_enc))\n",
    "\n",
    "print('Found public key:')\n",
    "print(pub_key.to_pem().decode().strip())"
   ]
  },
  {
   "cell_type": "markdown",
   "id": "367b6c52-ee2a-4d93-9b05-501838996bf6",
   "metadata": {},
   "source": [
    "## Verifying the signature\n",
    "\n",
    "The signature is encoded using the [URL-safe Base64 encoding](https://datatracker.ietf.org/doc/html/rfc4648) unlike the public keys which are encoded with vanilla Base64. In addition the padding characters have been stripped. We can use a trick whereby the base64 decode ignores additional padding characters to decode the signature by simply appending the maximum number of padding characters:"
   ]
  },
  {
   "cell_type": "code",
   "execution_count": 7,
   "id": "4bd5ef17-5b5f-4f1f-a0ab-4a5a2734e94d",
   "metadata": {},
   "outputs": [
    {
     "name": "stdout",
     "output_type": "stream",
     "text": [
      "Signature: 201011faa0b55e1bb558824f0dbfb0522a4b0bbfbf1d949f2070bbad88442410e886222635855b1ccb7cbe92e792e56628ca14d4eae5092603d5ba6ac4645a98\n"
     ]
    }
   ],
   "source": [
    "import binascii\n",
    "\n",
    "signature_bytes = base64.urlsafe_b64decode(signature + '===')\n",
    "print(f'Signature: {binascii.hexlify(signature_bytes).decode()}')"
   ]
  },
  {
   "cell_type": "markdown",
   "id": "92a9f828-77df-4551-b1a9-55ac31f03be4",
   "metadata": {},
   "source": [
    "The verifier app does [something which seems strange at this point](https://github.com/nhsx/covid-pass-verifier/blob/ef3b3faa34cb7b37fcb59903e1e09cd8eb1e9d0d/NHSCovidPassVerifier/Services/Repositories/QRDecoderService.cs#L84). Instead of simply stripping the signature encoding from the QR code payload it instead re-forms the first part of the token and re-encodes it using [Encoding.Unicode](https://docs.microsoft.com/en-us/dotnet/api/system.text.encoding.unicode?view=net-5.0):\n",
    "\n",
    "```\n",
    "var tokenParts = qrCode.Split('.');\n",
    "if (tokenParts.Length != 3)\n",
    "{\n",
    "    return false;\n",
    "}\n",
    "var header = tokenParts[0];\n",
    "var payload = tokenParts[1];\n",
    "var signature = tokenParts[2];\n",
    "var byteData = Encoding.Unicode.GetBytes($\"{header}.{payload}\");\n",
    "\n",
    "var sigBytes = Base64UrlEncoder.DecodeBytes(signature);\n",
    "```\n",
    "\n",
    "This re-encodes the QR Code as UTF-16, little endian with a Byte Order Mark (BOM). I'm not sure _why_ it does this; verifying the ASCII encoded representation would be similarly secure and in general one wants to try and do as little processing on a token pre-verification as is possible. My, unfounded, suspicion is that this encoding happened inadvertently in the code which generated the signatures and the re-encoding here is a workaround although that's only my gut feeling. Nonetheless, the message to be verified has to be so encoded:"
   ]
  },
  {
   "cell_type": "code",
   "execution_count": 8,
   "id": "88f0261d-94fb-4e85-ad49-c6c873d2c5fe",
   "metadata": {},
   "outputs": [
    {
     "name": "stdout",
     "output_type": "stream",
     "text": [
      "Message: b'S\\x002\\x00V\\x005\\x00M\\x00V\\x00J\\x00F\\x00.\\x00M\\x00T\\x00I\\x00x\\x00M\\x00D\\x00c\\x00x\\x00O\\x00T\\x00A\\x005\\x00N\\x00T\\x00Z\\x00S\\x00S\\x00U\\x00N\\x00I\\x00Q\\x00V\\x00J\\x00E\\x00I\\x00F\\x00d\\x00B\\x00U\\x00k\\x00V\\x00I\\x00Q\\x00U\\x000\\x00'\n"
     ]
    }
   ],
   "source": [
    "message = f'{header}.{payload}'.encode('utf_16_le')\n",
    "print(f'Message: {message}')"
   ]
  },
  {
   "cell_type": "markdown",
   "id": "e5dc7c3c-4981-4253-ac36-2f11dbdc5397",
   "metadata": {},
   "source": [
    "The public key can then be used to verify the re-encoded payload using [ECDSA](https://en.wikipedia.org/wiki/Elliptic_Curve_Digital_Signature_Algorithm) and [SHA256](https://en.wikipedia.org/wiki/SHA-2):"
   ]
  },
  {
   "cell_type": "code",
   "execution_count": 9,
   "id": "be9baac9-df76-4f8d-9790-265948db2fca",
   "metadata": {},
   "outputs": [
    {
     "name": "stdout",
     "output_type": "stream",
     "text": [
      "Signature verified\n"
     ]
    }
   ],
   "source": [
    "import hashlib\n",
    "\n",
    "# This will throw a BadSignature exception if the signature is invalid.\n",
    "if pub_key.verify(signature_bytes, message, hashlib.sha256):\n",
    "    print('Signature verified')"
   ]
  },
  {
   "cell_type": "markdown",
   "id": "3f53c5b0-fab1-4218-a907-b30bd17b3314",
   "metadata": {},
   "source": [
    "## Parsing the payload\n",
    "\n",
    "The payload is also URL-safe Base64 encoded. We can decode it using the same padding trick:"
   ]
  },
  {
   "cell_type": "code",
   "execution_count": 10,
   "id": "d5f0fd53-5e30-4aec-8f62-1fb0ed966d87",
   "metadata": {},
   "outputs": [
    {
     "name": "stdout",
     "output_type": "stream",
     "text": [
      "Payload: 12107190956RICHARD WAREHAM\n"
     ]
    }
   ],
   "source": [
    "payload_str = base64.urlsafe_b64decode(payload + '===').decode('ascii')\n",
    "print(f'Payload: {payload_str}')"
   ]
  },
  {
   "cell_type": "markdown",
   "id": "3335f24a-9743-4f3a-aaa3-762afd9ffc35",
   "metadata": {},
   "source": [
    "The payload consists of a version identifier (in this case `1`) followed by the UTC expiry date and time in the [strftime format](https://docs.python.org/3/library/datetime.html#strftime-strptime-behavior) `%y%m%d%H%M` and then the name of the individual. We firstly assert that the version number is `1`:"
   ]
  },
  {
   "cell_type": "code",
   "execution_count": 11,
   "id": "a7c2a30d-a0a4-4ce5-8b9a-59715f42d23b",
   "metadata": {},
   "outputs": [],
   "source": [
    "assert payload_str[:1] == '1'"
   ]
  },
  {
   "cell_type": "markdown",
   "id": "dff1e988-57d6-4aa0-9680-ec468998336b",
   "metadata": {},
   "source": [
    "The expiry date and name can be extracted and parsed from the payload:"
   ]
  },
  {
   "cell_type": "code",
   "execution_count": 12,
   "id": "a1e430bc-84c2-42bd-aba2-bb1fb45cdd66",
   "metadata": {},
   "outputs": [
    {
     "name": "stdout",
     "output_type": "stream",
     "text": [
      "Valid until: 2021-07-19 09:56:00 (UTC)\n",
      "  Valid for: RICHARD WAREHAM\n"
     ]
    }
   ],
   "source": [
    "import datetime\n",
    "\n",
    "valid_datetime = datetime.datetime.strptime(payload_str[1:11], '%y%m%d%H%M')\n",
    "name = payload_str[11:]\n",
    "\n",
    "print(f'Valid until: {valid_datetime} (UTC)')\n",
    "print(f'  Valid for: {name}')"
   ]
  },
  {
   "cell_type": "markdown",
   "id": "ae3794d6-9eec-4e7e-bd79-38ba98319e20",
   "metadata": {},
   "source": [
    "## Questions\n",
    "\n",
    "There are some odd inconsistencies within the NHS COVID Pass:\n",
    "\n",
    "### Why are public keys encoded with vanilla Base64 but the payload is encoded using the URL Safe variant?\n",
    "\n",
    "It's likely that the public key endpoint was inspired by the [JSON Web Key format](https://datatracker.ietf.org/doc/html/rfc7517) which uses Base64 to encode public keys (well, [PEM](https://en.wikipedia.org/wiki/Privacy-Enhanced_Mail), but it's underpinned by Base64) whereas the token format was inspired by [JSON Web Tokens](https://jwt.io) which use the URL Safe variant. There's nothing inherently wrong with this, it's just a bit jarring.\n",
    "\n",
    "### Why does signature verification require re-encoding of the payload and header?\n",
    "\n",
    "This is more of a head-scratcher. The [JWS spec](https://www.rfc-editor.org/rfc/rfc7515.html) explicitly names UTF-8 as the encoding for the header and that the bytes of the payload must remain untouched. Indeed it would be common practice to leave the payload bytes alone until verification is complete. As indicated in the text I think this might be the result of an inadvertent encoding when the payload is signed.\n",
    "\n",
    "## Comments\n",
    "\n",
    "Overall the NHS COVID pass is \"just complex enough\" to solve its aims to provide a cryptographically signed assertion that a named individual has been issued a pass until a given expiry date. The verifier app appears to have had the domestic pass somewhat hacked in and the app itself is somewhat under-commented. That being said, it was probably put together in a hurry and the fact that it bolts existing crypto primitives for signature validation together rather than rolling their own is heartening."
   ]
  },
  {
   "cell_type": "code",
   "execution_count": null,
   "id": "e1fb97ea-9f64-4639-a275-8077c7f50fd1",
   "metadata": {},
   "outputs": [],
   "source": []
  }
 ],
 "metadata": {
  "kernelspec": {
   "display_name": "Python 3 (ipykernel)",
   "language": "python",
   "name": "python3"
  },
  "language_info": {
   "codemirror_mode": {
    "name": "ipython",
    "version": 3
   },
   "file_extension": ".py",
   "mimetype": "text/x-python",
   "name": "python",
   "nbconvert_exporter": "python",
   "pygments_lexer": "ipython3",
   "version": "3.8.10"
  }
 },
 "nbformat": 4,
 "nbformat_minor": 5
}
